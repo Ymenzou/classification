{
  "nbformat": 4,
  "nbformat_minor": 0,
  "metadata": {
    "colab": {
      "name": "class_test.ipynb",
      "provenance": [],
      "authorship_tag": "ABX9TyMalO/IXg1Ie2d4DAzTaKIp",
      "include_colab_link": true
    },
    "kernelspec": {
      "name": "python3",
      "display_name": "Python 3"
    },
    "language_info": {
      "name": "python"
    }
  },
  "cells": [
    {
      "cell_type": "markdown",
      "metadata": {
        "id": "view-in-github",
        "colab_type": "text"
      },
      "source": [
        "<a href=\"https://colab.research.google.com/github/Ymenzou/classification/blob/main/class_test.ipynb\" target=\"_parent\"><img src=\"https://colab.research.google.com/assets/colab-badge.svg\" alt=\"Open In Colab\"/></a>"
      ]
    },
    {
      "cell_type": "code",
      "execution_count": 4,
      "metadata": {
        "id": "vzbguNvceRjX"
      },
      "outputs": [],
      "source": [
        "import matplotlib.pyplot as plt\n",
        "from memory_profiler import memory_usage\n",
        "import os\n",
        "import pandas as pd\n",
        "from glob import glob\n",
        "import numpy as np"
      ]
    },
    {
      "cell_type": "code",
      "source": [
        "from fastai.vision import *\n",
        "import librosa\n",
        "import librosa.display\n",
        "import pylab\n",
        "import matplotlib\n",
        "import gc"
      ],
      "metadata": {
        "id": "obm_f7ZRgF6Y"
      },
      "execution_count": 5,
      "outputs": []
    },
    {
      "cell_type": "code",
      "source": [
        "!mkdir /kaggle/working/train\n",
        "!mkdir /kaggle/working/test"
      ],
      "metadata": {
        "colab": {
          "base_uri": "https://localhost:8080/"
        },
        "id": "Ak9Gn7NagQZv",
        "outputId": "4408b490-a5cc-4b7e-b61e-fb3084e89608"
      },
      "execution_count": 6,
      "outputs": [
        {
          "output_type": "stream",
          "name": "stdout",
          "text": [
            "mkdir: cannot create directory ‘/kaggle/working/train’: No such file or directory\n",
            "mkdir: cannot create directory ‘/kaggle/working/test’: No such file or directory\n"
          ]
        }
      ]
    },
    {
      "cell_type": "code",
      "source": [
        "def create_spectrogram(filename,name):\n",
        "    plt.interactive(False)\n",
        "    clip, sample_rate = librosa.load(filename, sr=None)\n",
        "    fig = plt.figure(figsize=[0.72,0.72])\n",
        "    ax = fig.add_subplot(111)\n",
        "    ax.axes.get_xaxis().set_visible(False)\n",
        "    ax.axes.get_yaxis().set_visible(False)\n",
        "    ax.set_frame_on(False)\n",
        "    S = librosa.feature.melspectrogram(y=clip, sr=sample_rate)\n",
        "    librosa.display.specshow(librosa.power_to_db(S, ref=np.max))\n",
        "    filename  = Path('/kaggle/working/train/' + name + '.jpg')\n",
        "    plt.savefig(filename, dpi=400, bbox_inches='tight',pad_inches=0)\n",
        "    plt.close()    \n",
        "    fig.clf()\n",
        "    plt.close(fig)\n",
        "    plt.close('all')\n",
        "    del filename,name,clip,sample_rate,fig,ax,S"
      ],
      "metadata": {
        "id": "5OHz9y-jiELV"
      },
      "execution_count": 7,
      "outputs": []
    },
    {
      "cell_type": "code",
      "source": [
        "def create_spectrogram_test(filename,name):\n",
        "    plt.interactive(False)\n",
        "    clip, sample_rate = librosa.load(filename, sr=None)\n",
        "    fig = plt.figure(figsize=[0.72,0.72])\n",
        "    ax = fig.add_subplot(111)\n",
        "    ax.axes.get_xaxis().set_visible(False)\n",
        "    ax.axes.get_yaxis().set_visible(False)\n",
        "    ax.set_frame_on(False)\n",
        "    S = librosa.feature.melspectrogram(y=clip, sr=sample_rate)\n",
        "    librosa.display.specshow(librosa.power_to_db(S, ref=np.max))\n",
        "    filename  = Path('/kaggle/working/test/' + name + '.jpg')\n",
        "    plt.savefig(filename, dpi=400, bbox_inches='tight',pad_inches=0)\n",
        "    plt.close()    \n",
        "    fig.clf()\n",
        "    plt.close(fig)\n",
        "    plt.close('all')\n",
        "    del filename,name,clip,sample_rate,fig,ax,S"
      ],
      "metadata": {
        "id": "fdyuvWs3iLBI"
      },
      "execution_count": 8,
      "outputs": []
    },
    {
      "cell_type": "code",
      "source": [
        "Data_dir=np.array(glob(\"../input/train/Train/*\"))"
      ],
      "metadata": {
        "id": "WIwanDmSiRNk"
      },
      "execution_count": 9,
      "outputs": []
    },
    {
      "cell_type": "code",
      "source": [
        "%load_ext memory_profiler\n"
      ],
      "metadata": {
        "id": "dCx5OWBniU6I"
      },
      "execution_count": 10,
      "outputs": []
    },
    {
      "cell_type": "code",
      "source": [
        "%%memit \n",
        "i=0\n",
        "for file in Data_dir[i:i+1500]:\n",
        "    filename,name = file,file.split('/')[-1].split('.')[0]\n",
        "    create_spectrogram(filename,name)"
      ],
      "metadata": {
        "colab": {
          "base_uri": "https://localhost:8080/"
        },
        "id": "QFKqrJWOiceW",
        "outputId": "5a4772fe-a942-4f19-ffa5-a42330c8634d"
      },
      "execution_count": 15,
      "outputs": [
        {
          "output_type": "stream",
          "name": "stdout",
          "text": [
            "peak memory: 1279.54 MiB, increment: 0.00 MiB\n"
          ]
        }
      ]
    },
    {
      "cell_type": "code",
      "source": [
        "gc.collect()\n"
      ],
      "metadata": {
        "colab": {
          "base_uri": "https://localhost:8080/"
        },
        "id": "08Lj_lg4iilK",
        "outputId": "19314fed-477e-4d57-b329-919c371c36eb"
      },
      "execution_count": 16,
      "outputs": [
        {
          "output_type": "execute_result",
          "data": {
            "text/plain": [
              "88"
            ]
          },
          "metadata": {},
          "execution_count": 16
        }
      ]
    }
  ]
}